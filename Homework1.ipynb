{
 "cells": [
  {
   "cell_type": "markdown",
   "metadata": {},
   "source": [
    "# SYD DAT 7 Homework - Git, Markdown and Pandas\n",
    "\n",
    "## Homework: due Feb 20th 2017\n",
    "\n",
    "#### Setup\n",
    "* Create a repository\n",
    "* Copy this Homework1.ipynb file into your new repository\n",
    "\n",
    "#### Communication\n",
    "* Read about some [Markdown Techniques](http://daringfireball.net/projects/markdown/syntax)\n",
    "* Write a summary of a chapter of [The Data Science Handbook](http://www.thedatasciencehandbook.com/) in Markdown\n",
    "\n",
    "#### Programming\n",
    "* Complete the lab from class and the additional Exercise below\n",
    "\n",
    "#### Course Project\n",
    "* Come up with 5 different ideas for your course project. For each one list:\n",
    "  * Overview of your idea\n",
    "  * What data you will use, and how you will collect it\n",
    "  * What the outcome is that you are trying to achieve\n",
    "  * Any ideas of modelling techniques it may involve\n",
    "\n",
    "\n",
    "#### How to submit\n",
    "  * Send a message on Slack to Greg and Amanda to tell us the name of the repository you created and the\n",
    "  filename of the jupyter notebook where you've done your work\n"
   ]
  },
  {
   "cell_type": "markdown",
   "metadata": {},
   "source": [
    "## Weather\n",
    "\n",
    "The Bureau of Meteorology keeps long-term data about rainfall, temperatures and so on. You generate a query,\n",
    "and then you can fetch that same data again for a while before the data is expired.\n",
    "\n",
    "* Go to http://www.bom.gov.au/climate/data\n",
    "* There's a pull down for \"Data about\": choose \"Rainfall\"\n",
    "* Select a weather station: choose Sydney\n",
    "* It will then come up with a list of matching towns: choose Sydney, NSW (the first one in the list)\n",
    "* It will then give a list of the nearest weather stations.\n",
    "* Choose 066062 Sydney Observatory\n",
    "* Select the year 2016\n",
    "* Click on the \"Get Data\" button.\n",
    "* That next page you get will have a URL very similar to this:\n",
    "http://www.bom.gov.au/jsp/ncc/cdio/weatherData/av?p_nccObsCode=136&p_display_type=dailyDataFile&p_startYear=2016&p_c=-872836455&p_stn_num=066062"
   ]
  },
  {
   "cell_type": "code",
   "execution_count": null,
   "metadata": {
    "collapsed": true
   },
   "outputs": [],
   "source": [
    "# Use pandas to read the rainfall table from the web (as described in the previous cell). \n",
    "# Ignore the summary statistics.\n",
    "# Select the 'Monthly Total' row and sum it to get a yearly rainfall\n",
    "# (Optional) Create a function that returns the yearly rainfall for a given year. Plot rainfall over time"
   ]
  }
 ],
 "metadata": {
  "kernelspec": {
   "display_name": "Python 2",
   "language": "python",
   "name": "python2"
  },
  "language_info": {
   "codemirror_mode": {
    "name": "ipython",
    "version": 2
   },
   "file_extension": ".py",
   "mimetype": "text/x-python",
   "name": "python",
   "nbconvert_exporter": "python",
   "pygments_lexer": "ipython2",
   "version": "2.7.13"
  }
 },
 "nbformat": 4,
 "nbformat_minor": 0
}
